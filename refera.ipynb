{
 "cells": [
  {
   "cell_type": "code",
   "execution_count": 4,
   "id": "b78a330f",
   "metadata": {},
   "outputs": [
    {
     "name": "stdout",
     "output_type": "stream",
     "text": [
      "Requirement already satisfied: gitpython in c:\\users\\gabri\\anaconda3\\lib\\site-packages (3.1.31)\n",
      "Requirement already satisfied: gitdb<5,>=4.0.1 in c:\\users\\gabri\\anaconda3\\lib\\site-packages (from gitpython) (4.0.10)\n",
      "Requirement already satisfied: smmap<6,>=3.0.1 in c:\\users\\gabri\\anaconda3\\lib\\site-packages (from gitdb<5,>=4.0.1->gitpython) (5.0.0)\n",
      "Note: you may need to restart the kernel to use updated packages.\n"
     ]
    }
   ],
   "source": [
    "pip install gitpython\n"
   ]
  },
  {
   "cell_type": "code",
   "execution_count": 6,
   "id": "c18fde71",
   "metadata": {},
   "outputs": [
    {
     "name": "stdout",
     "output_type": "stream",
     "text": [
      "Collecting git+https://github.com/Flaviavl/refera\n",
      "  Cloning https://github.com/Flaviavl/refera to c:\\users\\gabri\\appdata\\local\\temp\\pip-req-build-kl5y8ifl\n",
      "Note: you may need to restart the kernel to use updated packages.\n"
     ]
    },
    {
     "name": "stderr",
     "output_type": "stream",
     "text": [
      "  ERROR: Error [WinError 2] O sistema não pode encontrar o arquivo especificado while executing command git version\n",
      "ERROR: Cannot find command 'git' - do you have 'git' installed and in your PATH?\n"
     ]
    }
   ],
   "source": [
    "pip install git+https://github.com/Flaviavl/refera"
   ]
  },
  {
   "cell_type": "code",
   "execution_count": 1,
   "id": "25719def",
   "metadata": {},
   "outputs": [],
   "source": [
    "import re\n",
    "import numpy as np\n",
    "import pandas as pd\n",
    "import requests\n",
    "from bs4 import BeautifulSoup\n",
    "import sqlalchemy\n",
    "import logging\n",
    "import os\n",
    "import pymysql\n",
    "import datetime\n",
    "from datetime import date as dt"
   ]
  },
  {
   "cell_type": "code",
   "execution_count": 2,
   "id": "b328ffbb",
   "metadata": {},
   "outputs": [
    {
     "name": "stdout",
     "output_type": "stream",
     "text": [
      "Something went wrong with the connection\n"
     ]
    }
   ],
   "source": [
    "try:\n",
    "    db_server='pymysql'\n",
    "    user='adm'\n",
    "    db_port = '3306'\n",
    "    password = 'Refere123'\n",
    "    ip = 'localhost'\n",
    "    db_name = 'refera'\n",
    "    engine = sqlalchemy.create_engine(f'mysql+{db_server}://{user}:{password}@{ip}:{db_port}/{db_name}?charset=utf8')\n",
    "    conn = engine.connect()\n",
    "    logger = logging.getLogger('database_connection')\n",
    "    logger.info('The database connection runned sucessfully')\n",
    "    #pd.DataFrame([[datetime.datetime.now(),'The database connection runned sucessfully']]).to_csv('log.csv',index=False,mode='a',header='False')\n",
    "except:\n",
    "    print(f'Something went wrong with the connection')\n",
    "    logger = logging.getLogger('database_connection')\n",
    "    logger.info('The database connection failed')"
   ]
  },
  {
   "cell_type": "code",
   "execution_count": null,
   "id": "09a0773e",
   "metadata": {},
   "outputs": [],
   "source": []
  }
 ],
 "metadata": {
  "kernelspec": {
   "display_name": "Python 3 (ipykernel)",
   "language": "python",
   "name": "python3"
  },
  "language_info": {
   "codemirror_mode": {
    "name": "ipython",
    "version": 3
   },
   "file_extension": ".py",
   "mimetype": "text/x-python",
   "name": "python",
   "nbconvert_exporter": "python",
   "pygments_lexer": "ipython3",
   "version": "3.11.3"
  }
 },
 "nbformat": 4,
 "nbformat_minor": 5
}
