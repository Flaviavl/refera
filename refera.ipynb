{
 "cells": [
  {
   "cell_type": "code",
   "execution_count": 1,
   "id": "25719def",
   "metadata": {},
   "outputs": [],
   "source": [
    "import re\n",
    "import os\n",
    "import pandas as pd"
   ]
  },
  {
   "cell_type": "code",
   "execution_count": 15,
   "id": "09a0773e",
   "metadata": {},
   "outputs": [
    {
     "data": {
      "text/plain": [
       "'C:\\\\Users\\\\gabri\\\\Desktop\\\\refera\\\\refera\\\\refera\\\\seeds\\\\\\\\'"
      ]
     },
     "execution_count": 15,
     "metadata": {},
     "output_type": "execute_result"
    }
   ],
   "source": [
    "folder = r'C:\\Users\\gabri\\Desktop\\refera\\refera\\refera\\seeds\\\\'\n",
    "folder"
   ]
  },
  {
   "cell_type": "code",
   "execution_count": 16,
   "id": "f7c4eeeb",
   "metadata": {},
   "outputs": [
    {
     "data": {
      "text/plain": [
       "['.gitkeep',\n",
       " 'actor_202211251432.csv',\n",
       " 'address_202211251432.csv',\n",
       " 'category_202211251432.csv',\n",
       " 'city_202211251432.csv',\n",
       " 'country_202211251432.csv',\n",
       " 'customer_202211251432.csv',\n",
       " 'film_202211251432.csv',\n",
       " 'film_actor_202211251432.csv',\n",
       " 'film_category_202211251432.csv',\n",
       " 'inventory_202211251432.csv',\n",
       " 'payment_202211251432.csv',\n",
       " 'rental_202211251432.csv',\n",
       " 'staff_202211251432.csv',\n",
       " 'store_202211251432.csv',\n",
       " '_language__202211251432.csv']"
      ]
     },
     "execution_count": 16,
     "metadata": {},
     "output_type": "execute_result"
    }
   ],
   "source": [
    "os.listdir(folder)"
   ]
  },
  {
   "cell_type": "code",
   "execution_count": 27,
   "id": "90ad3dfd",
   "metadata": {},
   "outputs": [],
   "source": [
    "for file_name in os.listdir(folder):\n",
    "    old_name = folder + file_name\n",
    "    new_name = re.sub(r'[0-9]+|_','',old_name)\n",
    "    os.rename(old_name , new_name)\n"
   ]
  },
  {
   "cell_type": "code",
   "execution_count": 28,
   "id": "b518ef7f",
   "metadata": {},
   "outputs": [
    {
     "name": "stdout",
     "output_type": "stream",
     "text": [
      "['.gitkeep', 'actor.csv', 'address.csv', 'category.csv', 'city.csv', 'country.csv', 'customer.csv', 'film.csv', 'filmactor.csv', 'filmcategory.csv', 'inventory.csv', 'language.csv', 'payment.csv', 'rental.csv', 'staff.csv', 'store.csv']\n"
     ]
    }
   ],
   "source": [
    "print (os.listdir(folder))"
   ]
  }
 ],
 "metadata": {
  "kernelspec": {
   "display_name": "Python 3 (ipykernel)",
   "language": "python",
   "name": "python3"
  },
  "language_info": {
   "codemirror_mode": {
    "name": "ipython",
    "version": 3
   },
   "file_extension": ".py",
   "mimetype": "text/x-python",
   "name": "python",
   "nbconvert_exporter": "python",
   "pygments_lexer": "ipython3",
   "version": "3.11.3"
  }
 },
 "nbformat": 4,
 "nbformat_minor": 5
}
